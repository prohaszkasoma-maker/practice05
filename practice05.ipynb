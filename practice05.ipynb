{
 "cells": [
  {
   "cell_type": "markdown",
   "id": "11c6422c",
   "metadata": {},
   "source": [
    "# Introduction to numerical algorithms\n",
    "## Practice class 5 - Introduction to version control with git, application to the Gauss-Siedel Method"
   ]
  },
  {
   "cell_type": "markdown",
   "id": "9e803b2c",
   "metadata": {},
   "source": [
    "**Why?**\n",
    "\n",
    "![image.png](http://www.phdcomics.com/comics/archive/phd101212s.gif)\n",
    "\n",
    "Credit: https://phdcomics.com/comics/archive.php?comicid=1531\n",
    "\n",
    "\n",
    "References:\n",
    "* https://github.com/BKris2315/CleanCodeAndDirtyTricks/blob/main/04_dont_lose_control%2Ftalk-Staudenmeier.pdf a nice introductionary talk to git and github\n",
    "* https://git-scm.com/cheat-sheet a cheat sheet with all the important commands from the official website\n",
    "* https://learngitbranching.js.org/ a nice and interactive js based game to learn git"
   ]
  },
  {
   "cell_type": "markdown",
   "id": "63e80374",
   "metadata": {},
   "source": [
    "## The Gauss-Siedel Method\n",
    "An iterative way to solve linear equations.\n",
    "\n",
    "**Recap of the lecture:**\n",
    "\n",
    "Let us express the components of $\\mathbf{x}$ from the set of linear equations in an iterative form, namely supposing we know all other components:\n",
    "$$A\\mathbf{x}=\\mathbf{b}$$\n",
    "In components:\n",
    "$$\n",
    "\\begin{align}\n",
    "a_{11}x_1+a_{12}x_2+\\dots+a_{1n}x_n&=b_1\\\\\n",
    "a_{21}x_1+a_{22}x_2+\\dots+a_{2n}x_n&=b_2\\\\\n",
    "\\vdots&=\\vdots\\\\\n",
    "a_{n1}x_1+a_{n2}x_2+\\dots+a_{nn}x_n&=b_n\n",
    "\\end{align}\n",
    "$$\n",
    "The different components can be expressed using superscript for iteration count:\n",
    "$$\\begin{align}\n",
    "x_1^{(i+1)} &=\\frac{-1}{a_{11}}(a_{12}x_2^{(i)}+\\dots+a_{1n}x_n^{(i)}-b_1)\\\\\n",
    "x_2^{(i+1)} &=\\frac{-1}{a_{22}}(a_{21}x_1^{(i)}+a_{23}x_3^{(i)}+\\dots+a_{2n}x_n^{(i)} -b_2)\\\\\n",
    "\\vdots&=\\vdots\\\\\n",
    "x_n^{(i+1)} &=\\frac{-1}{a_{nn}}(a_{n1}x_1^{(i)}+a_{n2}x_2^{(i)}+\\dots+a_{n,n-1}x_{n-1}^{(i)} - b_n)\n",
    "\\end{align}\n",
    "$$\n",
    "Please note the minus sign in the nominator of the first term on the right hand side of the equation.\n",
    "\n",
    "This is the Jordan method, so what can we do better? Why not to use the already calculated values. It was shown that it converges faster.\n",
    "$$\n",
    "\\begin{align}\n",
    "x_1^{(i+1)} &=\\frac{-1}{a_{11}}(a_{12}x_2^{(i)}+\\dots+a_{1n}x_n^{(i)}-b_1)\\\\\n",
    "x_2^{(i+1)} &=\\frac{-1}{a_{22}}(a_{21}x_1^{(i+1)}+a_{23}x_3^{(i)}+\\dots+a_{2n}x_n^{(i)} -b_2)\\\\\n",
    "\\vdots&=\\vdots\\\\\n",
    "x_n^{(i+1)} &=\\frac{-1}{a_{nn}}(a_{n1}x_1^{(i+1)}+a_{n2}x_2^{(i+1)}+\\dots+a_{n,n-1}x_{n-1}^{(i+1)} - b_n)\n",
    "\\end{align}\n",
    "$$\n",
    "In form of a sum:\n",
    "$$\n",
    "x_j^{(i+1)} = \\frac{-1}{a_{jj}}\\left(\\sum_{k=1}^{j-1}a_{jk}x_k^{(i+1)}+\\sum_{k=j+1}^na_{jk}x_k^{(i)} - b_j\\right)\n",
    "$$\n",
    "\n",
    "The last but most important thing to mention is that this method converges only if the matrix $A$ is either diagonally dominant, positive deifinite, or symmetric. Let us first write the algorithm keeping in mind that all iterative methods need starting values.\n",
    "\n",
    "$$\n",
    "x_i^{(k+1)} = \\frac{1}{a_{ii}} \\left(b_i - \\sum_{j < i} a_{ij} x_j^{(k+1)} - \\sum_{j > i} a_{ij} x_j^{(k)} \\right)\n",
    "$$"
   ]
  },
  {
   "cell_type": "markdown",
   "id": "a23acfb0",
   "metadata": {},
   "source": [
    "### Task 1 - Initialize git\n",
    "\n",
    "1. Check that you have git, open a terminal and try to type\n",
    "\n",
    "```\n",
    "$ git --version\n",
    "```\n",
    "if not follow the [installation process](https://git-scm.com/book/en/v2/Getting-Started-Installing-Git).\n",
    "\n",
    "2. Identify yourself\n",
    "```\n",
    "$ git config --global user.name <your_name>\n",
    "$ git config --global user.email <your_email>\n",
    "```\n",
    "to see what happend open the .gitconfig file in your home folder. To find it type\n",
    "```\n",
    "$ git config --list --show-origin\n",
    "```\n",
    "3. Initialize a local repository, to do that, create a floder for the repository, navigate to that folder and type\n",
    "```\n",
    "$ git init\n",
    "```\n",
    "it create the hidden `.git` folder. \n",
    "\n",
    "4. Create the `.ipynb` file you will use, save it and add it to the staging area\n",
    "```\n",
    "$ git add <my_notebook.ipynb>\n",
    "```\n",
    "to check the content of the staging area you can use the `git status` command and to compare with the previous commit use `git diff`.\n",
    "Then create your first commit as\n",
    "```\n",
    "$ git commit -m <your verbose commit message>\n",
    "```\n",
    "to see the result you can show the commit history with `git log`.\n",
    "\n",
    "![git](https://www.i2tutorials.com/wp-content/media/2023/02/work2.png)\n",
    "\n",
    "Credit: https://www.i2tutorials.com/git-tutorial/git-working-area/\n",
    "\n",
    "**Note:** All of these commands have their buttons in VS Code, however it is important to understand how it works.\n",
    "\n",
    "**IMPORTANT NOTE:** Of course you can commit any files, BUT keep your repository light and clean!\n",
    " * No executables, object files (not relevant for python projects)\n",
    " * No outputs, I suggest to clean the output of the notebooks before you commit them\n"
   ]
  },
  {
   "cell_type": "markdown",
   "id": "eca0df57",
   "metadata": {},
   "source": [
    "### Task 2 - The remote\n",
    "The version control is done *locally* with git. However you can store the created repository online at github (or in any other remote repository).\n",
    "1. Create/log in to you github account. \n",
    "2. Create an empty repository on the github webpage, without any content. \n",
    "3. Assign you remote repository to your local repository and push the local content to the remote.\n",
    "```\n",
    "$ git remote add origin <REMOTE-URL>\n",
    "$ git push origin main\n",
    "```\n",
    "the `<REMOTE-URL>` can be found at the page of the repository and looks like `https://github.com/<USERNAME>/<REPOSITORY_NAME>.git`\n",
    "\n",
    "4. If you are working with your pair the other can also access and download the remote repository (you have to set it public or add each other as contributors). First to create a local clone,\n",
    "```\n",
    "$ git clone <REMOTE-URL>\n",
    "```\n",
    "Once you have a local clone, you can update the local clone with all the canges in the remote with\n",
    "```\n",
    "$ git pull\n",
    "```\n",
    "\n",
    "**Note:** always pull from the remote before you start to develop to have the latest version of the project. And also pull before you try to push to the remote to have update the latest version."
   ]
  },
  {
   "cell_type": "markdown",
   "id": "828818a1",
   "metadata": {},
   "source": [
    "Other useful features:\n",
    "* `.gitignore` a file the collects all the files git ignores from commits, like executables, compiled files, output files, etc."
   ]
  },
  {
   "cell_type": "markdown",
   "id": "54b89242",
   "metadata": {},
   "source": [
    "### Task 3 - Do some work now\n",
    "Implement the Gauss-Siedel Method without vectorization (only for loops). For that create a function which takes the `A` matrix, the `b` vector, a tolerance value `tol` and a maximum number of iteration `max_iterations`, and returns the solution. \n",
    "Do it in your notebook file created in the repository.\n",
    "\n",
    "Commit your changes with a verbose text message. "
   ]
  },
  {
   "cell_type": "code",
   "execution_count": null,
   "id": "a462c30b",
   "metadata": {},
   "outputs": [],
   "source": []
  },
  {
   "cell_type": "code",
   "execution_count": null,
   "id": "2c9562e8",
   "metadata": {},
   "outputs": [],
   "source": [
    "# You can test your code here\n",
    "A = np.array([[4.0, 1.0, 2.0],\n",
    "              [3.0, 5.0, 1.0],\n",
    "              [1.0, 1.0, 3.0]])\n",
    "b = np.array([4.0, 7.0, 3.0])\n",
    "\n",
    "x = gauss_seidel_loops(A, b)\n",
    "print(\"Solution (loop-based):\", x)"
   ]
  },
  {
   "cell_type": "markdown",
   "id": "36669ceb",
   "metadata": {},
   "source": [
    "### Task 4 - Improve your code\n",
    "Use vectorized functions like `np.dot()` to calculate the next iteration.\n",
    "Create your next commit including also the improved version of your code. \n",
    "\n",
    "Try to sync your work with your pair. If one of you pushed to the remote the other will experience a conflict, has to pull first, and merge the remote branch with the local branch. Since you worked on the same part of the code you may have to resolve some conflicts first and choose which code parts to keep, than you can push the merged commit.\n",
    "\n",
    "![merge](https://assets.bytebytego.com/diagrams/0203-git-merge-git-rebase.jpg)"
   ]
  },
  {
   "cell_type": "code",
   "execution_count": null,
   "id": "040b8546",
   "metadata": {},
   "outputs": [],
   "source": []
  },
  {
   "cell_type": "code",
   "execution_count": null,
   "id": "d1176d00",
   "metadata": {},
   "outputs": [],
   "source": [
    "# You can test your code here\n",
    "A = np.array([[4.0, 1.0, 2.0],\n",
    "              [3.0, 5.0, 1.0],\n",
    "              [1.0, 1.0, 3.0]])\n",
    "b = np.array([4.0, 7.0, 3.0])\n",
    "\n",
    "x = gauss_seidel_vectorized(A, b)\n",
    "print(\"Solution (loop-based):\", x)"
   ]
  },
  {
   "cell_type": "markdown",
   "id": "76fce72e",
   "metadata": {},
   "source": [
    "### Other ways to practice\n",
    "\n",
    "![coding](https://encrypted-tbn0.gstatic.com/images?q=tbn:ANd9GcQX0crahKn8R90P1aHopfDSJHQEWC8cC2IRVQ&s)\n",
    "\n",
    "In order to help you with learning and practicing coding in python we would like to suggest you some tools:\n",
    "* [Datacamp](datacamp.com), free basic tutorials in python, sometimes from the data scientest point of view\n",
    "* [CodeAcademy](codeacademy.com) many free courses, not only python\n",
    "* [Sololearn](sololearn.com) many languages, also for mobile\n",
    "\n",
    "Last but not least, there are all the documentations of the used packages what is always a must to read before you use something. "
   ]
  },
  {
   "cell_type": "markdown",
   "id": "ef0c8717",
   "metadata": {},
   "source": []
  }
 ],
 "metadata": {
  "language_info": {
   "name": "python"
  }
 },
 "nbformat": 4,
 "nbformat_minor": 5
}
